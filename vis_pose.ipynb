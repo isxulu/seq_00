{
 "cells": [
  {
   "cell_type": "code",
   "execution_count": 2,
   "id": "193ea0a4-c828-410b-bbd7-5b04aba4d783",
   "metadata": {
    "tags": []
   },
   "outputs": [],
   "source": [
    "# import numpy as np\n",
    "# from utils.get_dtu_cam import get_dtumvs\n",
    "# h, w = 384, 512\n",
    "# w2cs, projs, imgs, masks, _, _, _, _, _ = get_dtumvs(\"/data/xulu/datasets/mvs_dtu\", 69, res=(w,h))"
   ]
  },
  {
   "cell_type": "code",
   "execution_count": 2,
   "id": "3d062296-7fa8-44ed-bfbd-8b5b663bf91f",
   "metadata": {
    "tags": []
   },
   "outputs": [],
   "source": [
    "# np_w2cs = w2cs.detach().cpu().numpy().transpose(0,2,1)\n",
    "# np_gl_projs = projs.detach().cpu().numpy().transpose(0,2,1)\n",
    "# np_cv_projs = np.zeros((np_gl_projs.shape[0], 3, 3))\n",
    "# for i in range(np_gl_projs.shape[0]):\n",
    "#     np_gl_projs[i,0,0] *= w / 2\n",
    "#     np_gl_projs[i,1,1] *= h / 2\n",
    "#     np_gl_projs[i,0,2] = (np_gl_projs[i,0,2] + 1) * w / 2\n",
    "#     np_gl_projs[i,1,2] = (np_gl_projs[i,1,2] + 1) * h / 2\n",
    "#     np_cv_projs[i, 0, 0] = np_gl_projs[i,0,0]\n",
    "#     np_cv_projs[i, 1, 1] = np_gl_projs[i,1,1]\n",
    "#     np_cv_projs[i, 2, 2] = 1\n",
    "#     np_cv_projs[i, 0, 2] = np_gl_projs[i,0,2]\n",
    "#     np_cv_projs[i, 1, 2] = np_gl_projs[i,1,2]\n",
    "    "
   ]
  },
  {
   "cell_type": "code",
   "execution_count": 1,
   "id": "a139073e-e7cd-4ef7-9a37-b8780ad53913",
   "metadata": {
    "tags": []
   },
   "outputs": [
    {
     "name": "stdout",
     "output_type": "stream",
     "text": [
      "Jupyter environment detected. Enabling Open3D WebVisualizer.\n",
      "[Open3D INFO] WebRTC GUI backend enabled.\n",
      "[Open3D INFO] WebRTCWindowSystem: HTTP handshake server disabled.\n"
     ]
    },
    {
     "ename": "NameError",
     "evalue": "name 'h' is not defined",
     "output_type": "error",
     "traceback": [
      "\u001b[0;31m---------------------------------------------------------------------------\u001b[0m",
      "\u001b[0;31mNameError\u001b[0m                                 Traceback (most recent call last)",
      "Cell \u001b[0;32mIn[1], line 18\u001b[0m\n\u001b[1;32m     14\u001b[0m intr \u001b[39m=\u001b[39m proj[:\u001b[39m3\u001b[39m, :\u001b[39m3\u001b[39m]\n\u001b[1;32m     15\u001b[0m \u001b[39m# print(extr)\u001b[39;00m\n\u001b[1;32m     16\u001b[0m \u001b[39m# print(\"\\n\") \u001b[39;00m\n\u001b[1;32m     17\u001b[0m \u001b[39m# print(intr)\u001b[39;00m\n\u001b[0;32m---> 18\u001b[0m cam \u001b[39m=\u001b[39m o3d\u001b[39m.\u001b[39mgeometry\u001b[39m.\u001b[39mLineSet()\u001b[39m.\u001b[39mcreate_camera_visualization(h, w, intr, extr, scale\u001b[39m=\u001b[39m\u001b[39m0.1\u001b[39m)\n\u001b[1;32m     19\u001b[0m vis_list\u001b[39m.\u001b[39mappend(cam)\n\u001b[1;32m     20\u001b[0m \u001b[39m# break\u001b[39;00m\n",
      "\u001b[0;31mNameError\u001b[0m: name 'h' is not defined"
     ]
    }
   ],
   "source": [
    "import open3d as o3d\n",
    "from utils.write_cam import get_intr\n",
    "from utils.write_image import get_extrs\n",
    "\n",
    "np_cv_projs = get_intr()\n",
    "np_w2cs = get_extrs()\n",
    "\n",
    "pcd = o3d.io.read_point_cloud(\"./output_ply/tri.ply\")\n",
    "vis_list=[]\n",
    "\n",
    "for i in range(120):\n",
    "    w2c, proj = np_w2cs[i], np_cv_projs[i]\n",
    "    extr = w2c\n",
    "    intr = proj[:3, :3]\n",
    "    # print(extr)\n",
    "    # print(\"\\n\") \n",
    "    # print(intr)\n",
    "    cam = o3d.geometry.LineSet().create_camera_visualization(376, 1408, intr, extr, scale=0.1)\n",
    "    vis_list.append(cam)\n",
    "    # break\n",
    "vis_list.append(pcd)\n",
    "o3d.visualization.draw_plotly(vis_list)"
   ]
  },
  {
   "cell_type": "code",
   "execution_count": null,
   "id": "eecc8c56-c5c8-4baf-b56a-41530d494275",
   "metadata": {},
   "outputs": [],
   "source": []
  }
 ],
 "metadata": {
  "kernelspec": {
   "display_name": "Python 3 (ipykernel)",
   "language": "python",
   "name": "python3"
  },
  "language_info": {
   "codemirror_mode": {
    "name": "ipython",
    "version": 3
   },
   "file_extension": ".py",
   "mimetype": "text/x-python",
   "name": "python",
   "nbconvert_exporter": "python",
   "pygments_lexer": "ipython3",
   "version": "3.10.0"
  }
 },
 "nbformat": 4,
 "nbformat_minor": 5
}
